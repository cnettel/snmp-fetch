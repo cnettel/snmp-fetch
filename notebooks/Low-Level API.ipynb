{
 "cells": [
  {
   "cell_type": "code",
   "execution_count": 1,
   "metadata": {},
   "outputs": [],
   "source": [
    "snmpsimd.py --agent-udpv4-endpoint=127.0.0.1:1161 --agent-udpv6-endpoint='[::1]:1161'"
   ]
  },
  {
   "cell_type": "markdown",
   "metadata": {},
   "source": [
    "# NO_SUCH_INSTACE"
   ]
  },
  {
   "cell_type": "code",
   "execution_count": 1,
   "metadata": {},
   "outputs": [],
   "source": [
    "from snmp_fetch.snmp.api import Host, NullVarBind, PduType, SnmpErrorType, dispatch, Version, Community\n",
    "\n",
    "\n",
    "hosts = [\n",
    "    Host(\n",
    "        0,\n",
    "        '127.0.0.1:1161',\n",
    "        communities=[Community(Version.V2C, 'recorded/linux-full-walk')],\n",
    "    )\n",
    "]\n",
    "results, errors = dispatch(\n",
    "    PduType.GET, hosts, [NullVarBind([1], 0, 0)]\n",
    ")"
   ]
  },
  {
   "cell_type": "code",
   "execution_count": 2,
   "metadata": {},
   "outputs": [
    {
     "data": {
      "text/plain": [
       "[array([], dtype=uint8)]"
      ]
     },
     "execution_count": 2,
     "metadata": {},
     "output_type": "execute_result"
    }
   ],
   "source": [
    "results"
   ]
  },
  {
   "cell_type": "code",
   "execution_count": 3,
   "metadata": {},
   "outputs": [
    {
     "data": {
      "text/plain": [
       "[SnmpError(type=TIMEOUT_ERROR, host=Host(id=0, hostname='127.0.0.1:1161', communities=[Community(version=v2c, string='\u0000\u0000\u0000\u0000\u0000\u0000\u0000\u0000/linux-full-walk')], parameters=None, config=None), sys_errno=None, snmp_errno=-24, err_stat=None, err_index=None, err_oid=None, message='Timeout error')]"
      ]
     },
     "execution_count": 3,
     "metadata": {},
     "output_type": "execute_result"
    }
   ],
   "source": [
    "errors"
   ]
  },
  {
   "cell_type": "code",
   "execution_count": null,
   "metadata": {},
   "outputs": [],
   "source": []
  }
 ],
 "metadata": {
  "kernelspec": {
   "display_name": "Python 3",
   "language": "python",
   "name": "python3"
  },
  "language_info": {
   "codemirror_mode": {
    "name": "ipython",
    "version": 3
   },
   "file_extension": ".py",
   "mimetype": "text/x-python",
   "name": "python",
   "nbconvert_exporter": "python",
   "pygments_lexer": "ipython3",
   "version": "3.8.0"
  }
 },
 "nbformat": 4,
 "nbformat_minor": 4
}
