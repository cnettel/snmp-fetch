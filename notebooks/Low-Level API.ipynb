{
 "cells": [
  {
   "cell_type": "code",
   "execution_count": 1,
   "metadata": {},
   "outputs": [],
   "source": [
    "# snmpsimd.py --agent-udpv4-endpoint=127.0.0.1:1161 --agent-udpv6-endpoint='[::1]:1161'"
   ]
  },
  {
   "cell_type": "code",
   "execution_count": 38,
   "metadata": {},
   "outputs": [
    {
     "data": {
      "text/plain": [
       "[array([  0,   0,   0,   0,   0,   0,   0,   0,   0,   0,   0,   0,   0,\n",
       "          0,   0,   0,   9,   0,   0,   0,   0,   0,   0,   0,  64,   0,\n",
       "          0,   0,   0,   0,   0,   0,   4,   0,   0,   0,   0,   0,   0,\n",
       "          0, 199,  96, 232,  93,   0,   0,   0,   0,  76, 105, 110, 117,\n",
       "        120,  32,  99, 114,  97, 121,  32,  50,  46,  54,  46,  50,  49,\n",
       "         46,  53,  45, 115, 109, 112,  32,  35,  50,  32,  83,  77,  80,\n",
       "         32,  84, 117, 101,  32,  74, 117, 110,  32,  49,  57,  32,  49,\n",
       "         52,  58,  53,  56,  58,  49,  49,  32,  67,  68,  84,  32,  50,\n",
       "         48,  48,  55,  32, 105,  54,  56,  54,   0,   0,   0,   0,   0,\n",
       "          0,   0,   0,   0,   0,   0,   0,   0,   0,   0,   0,   0,   0,\n",
       "          0,   0,   0,   0,   0,   0,   0,   0,   0,   0,   0,   0,   0,\n",
       "          0,   0,   0,   0,   0,   0,   0,   0,   0,   0,   0,   0,   0,\n",
       "          0,   0,   0,   0,   0,   0,   0,   0,   0,   0,   0,   0,   0,\n",
       "          0,   0,   0,   0,   0,   0,   0,   0,   0,   0,   0,   0,   0,\n",
       "          0,   0,   0,   0,   0,   0,   0,   0,   0,   0,   0,   0,   0,\n",
       "          0,   0,   0,   0,   0,   0,   0,   0,   0,   0,   0,   0,   0,\n",
       "          0,   0,   0,   0,   0,   0,   0,   0,   0,   0,   0,   0,   0,\n",
       "          0,   0,   0,   0,   0,   0,   0,   0,   0,   0,   0,   0,   0,\n",
       "          0,   0,   0,   0,   0,   0,   0,   0,   0,   0,   0,   0,   0,\n",
       "          0,   0,   0,   0,   0,   0,   0,   0,   0,   0,   0,   0,   0,\n",
       "          0,   0,   0,   0,   0,   0,   0,   0,   0,   0,   0,   0,   0,\n",
       "          0,   0,   0,   0,   0,   0,   0,   0,   0,   0,   0,   0,   0,\n",
       "          0,   0,   0,   0,   0,   0,   0,   0,   0,   0,   0,   0,   0,\n",
       "          0,   0,   0,   0,   0,   1,   0,   0,   0,   0,   0,   0,   0,\n",
       "          0,   0,   0,   0,   0,   0,   0,   0,   9,   0,   0,   0,   0,\n",
       "          0,   0,   0,  64,   0,   0,   0,   0,   0,   0,   0,   4,   0,\n",
       "          0,   0,   0,   0,   0,   0, 199,  96, 232,  93,   0,   0,   0,\n",
       "          0,  76, 105, 110, 117, 120,  32,  99, 114,  97, 121,  32,  50,\n",
       "         46,  54,  46,  50,  49,  46,  53,  45, 115, 109, 112,  32,  35,\n",
       "         50,  32,  83,  77,  80,  32,  84, 117, 101,  32,  74, 117, 110,\n",
       "         32,  49,  57,  32,  49,  52,  58,  53,  56,  58,  49,  49,  32,\n",
       "         67,  68,  84,  32,  50,  48,  48,  55,  32, 105,  54,  56,  54,\n",
       "          0,   0,   0,   0,   0,   0,   0,   0,   0,   0,   0,   0,   0,\n",
       "          0,   0,   0,   0,   0,   0,   0,   0,   0,   0,   0,   0,   0,\n",
       "          0,   0,   0,   0,   0,   0,   0,   0,   0,   0,   0,   0,   0,\n",
       "          0,   0,   0,   0,   0,   0,   0,   0,   0,   0,   0,   0,   0,\n",
       "          0,   0,   0,   0,   0,   0,   0,   0,   0,   0,   0,   0,   0,\n",
       "          0,   0,   0,   0,   0,   0,   0,   0,   0,   0,   0,   0,   0,\n",
       "          0,   0,   0,   0,   0,   0,   0,   0,   0,   0,   0,   0,   0,\n",
       "          0,   0,   0,   0,   0,   0,   0,   0,   0,   0,   0,   0,   0,\n",
       "          0,   0,   0,   0,   0,   0,   0,   0,   0,   0,   0,   0,   0,\n",
       "          0,   0,   0,   0,   0,   0,   0,   0,   0,   0,   0,   0,   0,\n",
       "          0,   0,   0,   0,   0,   0,   0,   0,   0,   0,   0,   0,   0,\n",
       "          0,   0,   0,   0,   0,   0,   0,   0,   0,   0,   0,   0,   0,\n",
       "          0,   0,   0,   0,   0,   0,   0,   0,   0,   0,   0,   0,   0,\n",
       "          0,   0,   0,   0,   0,   0,   0,   0,   0,   0,   0,   0,   0,\n",
       "          0,   0,   0,   0,   0,   0,   0,   0,   0,   0], dtype=uint8)]"
      ]
     },
     "execution_count": 38,
     "metadata": {},
     "output_type": "execute_result"
    }
   ],
   "source": [
    "from snmp_fetch.snmp.api import Host, NullVarBind, PduType, SnmpErrorType, dispatch, Version, Community, Config\n",
    "hosts = [\n",
    "    Host(\n",
    "        0,\n",
    "        '127.0.0.1:1161',\n",
    "        communities=[Community(Version.V2C, 'recorded/linux-full-walk')],\n",
    "    ),\n",
    "    Host(\n",
    "        1,\n",
    "        '::1:1161',\n",
    "        communities=[Community(Version.V2C, 'recorded/linux-full-walk')],\n",
    "    )\n",
    "]\n",
    "response, errors = dispatch(\n",
    "    PduType.GET, hosts, [NullVarBind([1, 3, 6, 1, 2, 1, 1, 1, 0], 0, 256)]\n",
    ")\n",
    "response"
   ]
  },
  {
   "cell_type": "code",
   "execution_count": 27,
   "metadata": {},
   "outputs": [
    {
     "data": {
      "text/plain": [
       "[]"
      ]
     },
     "execution_count": 27,
     "metadata": {},
     "output_type": "execute_result"
    }
   ],
   "source": [
    "errors"
   ]
  },
  {
   "cell_type": "code",
   "execution_count": 41,
   "metadata": {},
   "outputs": [
    {
     "data": {
      "text/plain": [
       "array([(0, 0, 9, 64, 4, '2019-12-05T01:43:35', [], b'Linux cray 2.6.21.5-smp #2 SMP Tue Jun 19 14:58:11 CDT 2007 i686'),\n",
       "       (1, 0, 9, 64, 4, '2019-12-05T01:43:35', [], b'Linux cray 2.6.21.5-smp #2 SMP Tue Jun 19 14:58:11 CDT 2007 i686')],\n",
       "      dtype=[('#id', '<u8'), ('#community_index', '<u8'), ('#oid_size', '<u8'), ('#value_size', '<u8'), ('#value_type', '<u8'), ('#timestamp', '<M8[s]'), ('#oid', '<u8', (0,)), ('#value', 'S256')])"
      ]
     },
     "execution_count": 41,
     "metadata": {},
     "output_type": "execute_result"
    }
   ],
   "source": [
    "import numpy as np\n",
    "results = response[0].view([\n",
    "    ('#id', np.uint64),\n",
    "    ('#community_index', np.uint64),\n",
    "    ('#oid_size', np.uint64),\n",
    "    ('#value_size', np.uint64),\n",
    "    ('#value_type', np.uint64),\n",
    "    ('#timestamp', 'datetime64[s]'),\n",
    "    ('#oid', (np.uint64, 0)),\n",
    "    ('#value', 'S256'),\n",
    "])\n",
    "results"
   ]
  },
  {
   "cell_type": "code",
   "execution_count": 42,
   "metadata": {},
   "outputs": [
    {
     "data": {
      "text/plain": [
       "1"
      ]
     },
     "execution_count": 42,
     "metadata": {},
     "output_type": "execute_result"
    }
   ],
   "source": [
    "len(response)"
   ]
  },
  {
   "cell_type": "code",
   "execution_count": null,
   "metadata": {},
   "outputs": [],
   "source": []
  }
 ],
 "metadata": {
  "kernelspec": {
   "display_name": "Python 3",
   "language": "python",
   "name": "python3"
  },
  "language_info": {
   "codemirror_mode": {
    "name": "ipython",
    "version": 3
   },
   "file_extension": ".py",
   "mimetype": "text/x-python",
   "name": "python",
   "nbconvert_exporter": "python",
   "pygments_lexer": "ipython3",
   "version": "3.8.0"
  }
 },
 "nbformat": 4,
 "nbformat_minor": 4
}
