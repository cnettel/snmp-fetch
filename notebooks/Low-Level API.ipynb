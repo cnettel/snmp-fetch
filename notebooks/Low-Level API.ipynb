{
 "cells": [
  {
   "cell_type": "code",
   "execution_count": 1,
   "metadata": {},
   "outputs": [],
   "source": [
    "# snmpsimd.py --agent-udpv4-endpoint=127.0.0.1:1161 --agent-udpv6-endpoint='[::1]:1161'"
   ]
  },
  {
   "cell_type": "code",
   "execution_count": 54,
   "metadata": {},
   "outputs": [
    {
     "data": {
      "text/plain": [
       "[array([], dtype=uint8)]"
      ]
     },
     "execution_count": 54,
     "metadata": {},
     "output_type": "execute_result"
    }
   ],
   "source": [
    "from snmp_fetch.snmp.api import Host, NullVarBind, PduType, SnmpErrorType, dispatch, Version, Community, Config\n",
    "hosts = [\n",
    "    Host(\n",
    "        0,\n",
    "        '127.0.0.1:11611',\n",
    "        communities=[Community(Version.V2C, 'recorded/linux-full-walk')],\n",
    "        config=Config(retries=3, timeout=3, var_binds_per_pdu=1, bulk_repetitions=1)\n",
    "    )\n",
    "]\n",
    "results, errors = dispatch(\n",
    "    PduType.NEXT, hosts, [NullVarBind([3], 0, 0)]\n",
    ")\n",
    "results"
   ]
  },
  {
   "cell_type": "code",
   "execution_count": 55,
   "metadata": {},
   "outputs": [
    {
     "data": {
      "text/plain": [
       "[SnmpError(type=ASYNC_PROBE_ERROR, host=Host(id=0, hostname='127.0.0.1:11611', communities=[Community(version=v2c, string='recorded/linux-full-walk')], parameters=None, config=Config(retries=3, timeout=3, var_binds_per_pdu=1, bulk_repetitions=1)), sys_errno=None, snmp_errno=None, err_stat=None, err_index=None, err_oid=None, message='Async probe error'),\n",
       " SnmpError(type=SEND_ERROR, host=Host(id=0, hostname='127.0.0.1:11611', communities=[Community(version=v2c, string='recorded/linux-full-walk')], parameters=None, config=Config(retries=3, timeout=3, var_binds_per_pdu=1, bulk_repetitions=1)), sys_errno=0, snmp_errno=-11, err_stat=None, err_index=None, err_oid=None, message='Error building ASN.1 representation (Can't build OID for variable)')]"
      ]
     },
     "execution_count": 55,
     "metadata": {},
     "output_type": "execute_result"
    }
   ],
   "source": [
    "errors"
   ]
  },
  {
   "cell_type": "code",
   "execution_count": null,
   "metadata": {},
   "outputs": [],
   "source": []
  }
 ],
 "metadata": {
  "kernelspec": {
   "display_name": "Python 3",
   "language": "python",
   "name": "python3"
  },
  "language_info": {
   "codemirror_mode": {
    "name": "ipython",
    "version": 3
   },
   "file_extension": ".py",
   "mimetype": "text/x-python",
   "name": "python",
   "nbconvert_exporter": "python",
   "pygments_lexer": "ipython3",
   "version": "3.7.4"
  }
 },
 "nbformat": 4,
 "nbformat_minor": 4
}
