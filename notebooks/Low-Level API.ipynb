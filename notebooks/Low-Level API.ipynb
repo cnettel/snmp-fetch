{
 "cells": [
  {
   "cell_type": "code",
   "execution_count": 1,
   "metadata": {},
   "outputs": [],
   "source": [
    "# snmpsimd.py --agent-udpv4-endpoint=127.0.0.1:1161 --agent-udpv6-endpoint='[::1]:1161'"
   ]
  },
  {
   "cell_type": "code",
   "execution_count": 2,
   "metadata": {},
   "outputs": [
    {
     "data": {
      "text/plain": [
       "[array([  0,   0,   0,   0,   0,   0,   0,   0,   0,   0,   0,   0,   0,\n",
       "          0,   0,   0,   9,   0,   0,   0,   0,   0,   0,   0,   8,   0,\n",
       "          0,   0,   0,   0,   0,   0,  67,   0,   0,   0,   0,   0,   0,\n",
       "          0,  55,  21, 232,  93,   0,   0,   0,   0], dtype=uint8)]"
      ]
     },
     "execution_count": 2,
     "metadata": {},
     "output_type": "execute_result"
    }
   ],
   "source": [
    "from snmp_fetch.snmp.api import Host, NullVarBind, PduType, SnmpErrorType, dispatch, Version, Community, Config\n",
    "hosts = [\n",
    "    Host(\n",
    "        0,\n",
    "        '127.0.0.1:1161',\n",
    "        communities=[Community(Version.V2C, 'recorded/linux-full-walk')],\n",
    "    )\n",
    "]\n",
    "results, errors = dispatch(\n",
    "    PduType.GET, hosts, [NullVarBind([1,3,6,1,2,1,1,3,0], 0, 0)]\n",
    ")\n",
    "results"
   ]
  },
  {
   "cell_type": "code",
   "execution_count": 3,
   "metadata": {},
   "outputs": [
    {
     "data": {
      "text/plain": [
       "[]"
      ]
     },
     "execution_count": 3,
     "metadata": {},
     "output_type": "execute_result"
    }
   ],
   "source": [
    "errors"
   ]
  },
  {
   "cell_type": "code",
   "execution_count": null,
   "metadata": {},
   "outputs": [],
   "source": []
  }
 ],
 "metadata": {
  "kernelspec": {
   "display_name": "Python 3",
   "language": "python",
   "name": "python3"
  },
  "language_info": {
   "codemirror_mode": {
    "name": "ipython",
    "version": 3
   },
   "file_extension": ".py",
   "mimetype": "text/x-python",
   "name": "python",
   "nbconvert_exporter": "python",
   "pygments_lexer": "ipython3",
   "version": "3.7.4"
  }
 },
 "nbformat": 4,
 "nbformat_minor": 4
}
